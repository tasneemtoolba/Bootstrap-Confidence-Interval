{
 "cells": [
  {
   "cell_type": "markdown",
   "id": "b1ff38dc",
   "metadata": {},
   "source": [
    "# This code is the first preprocessing step for the data, it considers only arrival bugs and  count those bugs that arrived on the same day"
   ]
  },
  {
   "cell_type": "code",
   "execution_count": 115,
   "id": "4ee341ba",
   "metadata": {
    "scrolled": true
   },
   "outputs": [
    {
     "name": "stdout",
     "output_type": "stream",
     "text": [
      "\u001b[33mDEPRECATION: Configuring installation scheme with distutils config files is deprecated and will no longer work in the near future. If you are using a Homebrew or Linuxbrew Python, please see discussion at https://github.com/Homebrew/homebrew-core/issues/76621\u001b[0m\u001b[33m\n",
      "\u001b[0mRequirement already satisfied: openpyxl in /usr/local/lib/python3.9/site-packages (3.0.9)\n",
      "Requirement already satisfied: et-xmlfile in /usr/local/lib/python3.9/site-packages (from openpyxl) (1.1.0)\n",
      "\u001b[33mDEPRECATION: Configuring installation scheme with distutils config files is deprecated and will no longer work in the near future. If you are using a Homebrew or Linuxbrew Python, please see discussion at https://github.com/Homebrew/homebrew-core/issues/76621\u001b[0m\u001b[33m\n",
      "\u001b[0m\n",
      "\u001b[1m[\u001b[0m\u001b[34;49mnotice\u001b[0m\u001b[1;39;49m]\u001b[0m\u001b[39;49m A new release of pip is available: \u001b[0m\u001b[31;49m23.0\u001b[0m\u001b[39;49m -> \u001b[0m\u001b[32;49m23.0.1\u001b[0m\n",
      "\u001b[1m[\u001b[0m\u001b[34;49mnotice\u001b[0m\u001b[1;39;49m]\u001b[0m\u001b[39;49m To update, run: \u001b[0m\u001b[32;49m/usr/local/opt/python@3.9/bin/python3.9 -m pip install --upgrade pip\u001b[0m\n"
     ]
    }
   ],
   "source": [
    "!pip install openpyxl\n",
    "!pip install xlsxwriter"
   ]
  },
  {
   "cell_type": "code",
   "execution_count": 2,
   "id": "6cce802c",
   "metadata": {},
   "outputs": [],
   "source": [
    "import pandas as pd\n",
    "from collections import defaultdict\n",
    "import numpy as np\n",
    "from sortedcontainers import SortedDict\n",
    "import xlsxwriter\n",
    "import collections \n",
    "\n",
    "dbNames = ['Tizen', 'Cyanogenmod','Nemo', 'Mer']\n"
   ]
  },
  {
   "cell_type": "code",
   "execution_count": 5,
   "id": "62d2e9f9-5fea-4909-888e-fa15d2af08d6",
   "metadata": {},
   "outputs": [],
   "source": [
    "for dbName in dbNames:\n",
    "    bugArrival = None\n",
    "\n",
    "    with pd.ExcelFile(f'./{dbName}_bugs.xlsx') as reader:\n",
    "        bugArrival = pd.read_excel(reader, sheet_name='Bug Arrival')    \n",
    "    \n",
    "    mydict = defaultdict(int)\n",
    "\n",
    "\n",
    "    if dbName != 'Mer' and dbName != 'Nemo': \n",
    "        bugArrival['Created'] = pd.to_datetime(bugArrival['Created'], errors='coerce').dt.strftime('%Y-%m-%d').astype(str)\n",
    "        bugArrival['Created.1'] = pd.to_datetime(bugArrival['Created.1'], errors='coerce').dt.strftime('%Y-%m-%d').astype(str)\n",
    "        for date in bugArrival['Created.1']:\n",
    "            if date == 'nan':\n",
    "                break\n",
    "            mydict[date] += 1\n",
    "\n",
    "        for date in bugArrival['Created']:\n",
    "            if date == 'nan':\n",
    "                break\n",
    "            mydict[date] += 1\n",
    "            \n",
    "    else:\n",
    "        bugArrival['Opened'] = pd.to_datetime(bugArrival['Opened'], errors='coerce').dt.strftime('%Y-%m-%d').astype(str)\n",
    "\n",
    "        for date in bugArrival['Opened']:\n",
    "            if date == 'nan':\n",
    "                break\n",
    "            mydict[date] += 1\n",
    "    \n",
    "\n",
    "\n",
    "    sortedlist = SortedDict(mydict)\n",
    "    \n",
    "    \n",
    "    dateList = pd.date_range(start= sortedlist.keys()[0],end=sortedlist.keys()[len(sortedlist)-1])\n",
    "\n",
    "    workbook = xlsxwriter.Workbook(f'countedSRs{dbName}Bugs.xlsx')\n",
    "    worksheet = workbook.add_worksheet()\n",
    "    row = 0\n",
    "\n",
    "    # iterating through content list\n",
    "    for date in dateList:\n",
    "        d = date.strftime('%Y-%m-%d')\n",
    "        worksheet.write(row, 0, row+1)\n",
    "        if d not in sortedlist.keys():\n",
    "            worksheet.write(row, 1, 0)\n",
    "        else:\n",
    "            worksheet.write(row, 1, sortedlist[d])\n",
    "        row += 1\n",
    "\n",
    "    workbook.close()"
   ]
  }
 ],
 "metadata": {
  "kernelspec": {
   "display_name": "Python 3 (ipykernel)",
   "language": "python",
   "name": "python3"
  },
  "language_info": {
   "codemirror_mode": {
    "name": "ipython",
    "version": 3
   },
   "file_extension": ".py",
   "mimetype": "text/x-python",
   "name": "python",
   "nbconvert_exporter": "python",
   "pygments_lexer": "ipython3",
   "version": "3.9.5"
  }
 },
 "nbformat": 4,
 "nbformat_minor": 5
}
